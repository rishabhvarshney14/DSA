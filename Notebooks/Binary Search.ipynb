{
 "cells": [
  {
   "cell_type": "markdown",
   "metadata": {},
   "source": [
    "# Binary Search\n",
    "\n",
    "- [Algorithm for Binary Search](#Algorithm-for-Binary-Search)\n",
    "- [Reverse Sorted Array](#Reverse-Sorted-Array)\n",
    "- [Sorting Order not defined](#Sorting-Order-not-defined)\n",
    "- [First or Last occurence of element in an array](#First-or-Last-occurence-of-element-in-an-array)\n",
    "- [Count of element in an array](#Count-of-element-in-an-array)\n",
    "- [Number of times a sorted array is rotated](#Number-of-times-a-sorted-array-is-rotated)\n",
    "- [Binary Search Recursion](#Binary-Search-Recursion)\n",
    "- [Find an element in a Rotated Sorted Array](#Find-an-element-in-a-Rotated-Sorted-Array)\n",
    "- [Searching in a nearly sorted array](#Searching-in-a-nearly-sorted-array)\n",
    "- [Find floor of an element in a sorted array](#Find-floor-of-an-element-in-a-sorted-array)\n",
    "- [Find ceil of an element in a sorted array](#Find-ceil-of-an-element-in-a-sorted-array)\n",
    "- [Next alphabetical Element](#Next-alphabetical-Element)\n",
    "- [Find position of an element in an infinite sorted array](#Find-position-of-an-element-in-an-infinite-sorted-array)\n",
    "- [Index of first one in a infinite binary sorted array (includ 0 and 1 only)](#Index-of-first-one-in-a-infinite-binary-sorted-array-(includ-0-and-1-only))\n",
    "- [Minimum difference element in a sorted array](#Minimum-difference-element-in-a-sorted-array)\n",
    "- [Peak element : Element greater than its both neighbors](#Peak-element-:-Element-greater-than-its-both-neighbors)\n",
    "- [Find maximum element in a bitonic array](#Find-maximum-element-in-a-bitonic-array)\n",
    "- [Search in bitonic array](#Search-in-bitonic-array)\n",
    "- [Search in row-wise and col-wise sorted array -- O(N + M) (worst case)](#Search-in-row-wise-and-col-wise-sorted-array----O(N-+-M)-(worst-case))\n",
    "- [Allocates minimum number of Pages](#Allocates-minimum-number-of-Pages)\n",
    "\n",
    "## [Algorithm for Binary Search](https://www.geeksforgeeks.org/binary-search/)"
   ]
  },
  {
   "cell_type": "code",
   "execution_count": 1,
   "metadata": {},
   "outputs": [
    {
     "data": {
      "text/plain": [
       "4"
      ]
     },
     "execution_count": 1,
     "metadata": {},
     "output_type": "execute_result"
    }
   ],
   "source": [
    "def binary_search(arr, ele):\n",
    "    start = 0\n",
    "    end = len(arr) - 1\n",
    "    \n",
    "    while not start > end:\n",
    "        mid = start + (end - start) // 2  # For stop overflowing int\n",
    "        if arr[mid] == ele:\n",
    "            return mid\n",
    "        \n",
    "        if ele > arr[mid]:\n",
    "            start = mid + 1\n",
    "        else:\n",
    "            end = mid - 1\n",
    "    print(\"Element not found!\")\n",
    "    \n",
    "binary_search([1, 2, 3, 4, 5], 5)"
   ]
  },
  {
   "cell_type": "markdown",
   "metadata": {},
   "source": [
    "## [Reverse Sorted Array](https://www.geeksforgeeks.org/search-an-element-in-a-reverse-sorted-array/)"
   ]
  },
  {
   "cell_type": "code",
   "execution_count": 2,
   "metadata": {},
   "outputs": [
    {
     "data": {
      "text/plain": [
       "1"
      ]
     },
     "execution_count": 2,
     "metadata": {},
     "output_type": "execute_result"
    }
   ],
   "source": [
    "def binary_search_reverse_sorted(arr, ele):\n",
    "    start = 0\n",
    "    end = len(arr) - 1\n",
    "    \n",
    "    while not start > end:\n",
    "        mid = start + (end - start) // 2\n",
    "        \n",
    "        if arr[mid] == ele:\n",
    "            return mid\n",
    "        elif ele > arr[mid]:\n",
    "            end = mid - 1\n",
    "        else:\n",
    "            start = mid + 1\n",
    "    \n",
    "    print(\"Element not found!\")\n",
    "    \n",
    "binary_search_reverse_sorted([6, 5, 4, 3, 2, 1], 5)"
   ]
  },
  {
   "cell_type": "markdown",
   "metadata": {},
   "source": [
    "## Sorting Order not defined"
   ]
  },
  {
   "cell_type": "code",
   "execution_count": 3,
   "metadata": {},
   "outputs": [
    {
     "name": "stdout",
     "output_type": "stream",
     "text": [
      "4\n",
      "-1\n"
     ]
    }
   ],
   "source": [
    "def binary_search_order_unk(arr, ele):\n",
    "    start = 0\n",
    "    end = len(arr) - 1\n",
    "    \n",
    "    while not start > end:\n",
    "        mid = start + (end - start) // 2\n",
    "        if arr[mid] == ele:\n",
    "            return mid\n",
    "        if arr[0] < arr[-1] and len(arr) > 1:\n",
    "            if ele > arr[mid]:\n",
    "                start = mid + 1\n",
    "            else:\n",
    "                end = mid - 1\n",
    "        else:\n",
    "            if ele > arr[mid]:\n",
    "                end = mid - 1\n",
    "            else:\n",
    "                start = mid + 1\n",
    "    return -1\n",
    "\n",
    "print(binary_search_order_unk([1, 2, 3, 4, 5, 6, 7], 5))\n",
    "print(binary_search_order_unk([7, 6, 5, 4, 3, 2, 1], 10))"
   ]
  },
  {
   "cell_type": "markdown",
   "metadata": {},
   "source": [
    "## [First or Last occurence of element in an array](https://www.geeksforgeeks.org/find-first-and-last-positions-of-an-element-in-a-sorted-array/)"
   ]
  },
  {
   "cell_type": "code",
   "execution_count": 4,
   "metadata": {},
   "outputs": [
    {
     "name": "stdout",
     "output_type": "stream",
     "text": [
      "3\n",
      "6\n"
     ]
    }
   ],
   "source": [
    "def first_occurence(arr, ele):\n",
    "    start = 0\n",
    "    end = len(arr) - 1\n",
    "    \n",
    "    first_ocr = -1\n",
    "    \n",
    "    while not start > end:\n",
    "        mid = start + (end - start) // 2\n",
    "        if arr[mid] == ele:\n",
    "            first_ocr = mid\n",
    "            end = mid - 1\n",
    "        elif ele > arr[mid]:\n",
    "            start = mid + 1\n",
    "        else:\n",
    "            end = mid - 1\n",
    "            \n",
    "    return first_ocr\n",
    "\n",
    "def last_occurence(arr, ele):\n",
    "    start = 0\n",
    "    end = len(arr) - 1\n",
    "    \n",
    "    last_ocr = -1\n",
    "    \n",
    "    while not start > end:\n",
    "        mid = start + (end - start) // 2\n",
    "        if arr[mid] == ele:\n",
    "            last_ocr = mid\n",
    "            start = mid + 1\n",
    "        elif ele > arr[mid]:\n",
    "            start = mid + 1\n",
    "        else:\n",
    "            end = mid - 1\n",
    "    \n",
    "    return last_ocr\n",
    "\n",
    "print(first_occurence([1, 2, 3, 5, 5, 5, 5, 8, 9], 5))\n",
    "print(last_occurence([1, 2, 3, 5, 5, 5, 5, 8, 9], 5))"
   ]
  },
  {
   "cell_type": "markdown",
   "metadata": {},
   "source": [
    "## [Count of element in an array](https://www.geeksforgeeks.org/count-number-of-occurrences-or-frequency-in-a-sorted-array/)"
   ]
  },
  {
   "cell_type": "code",
   "execution_count": 5,
   "metadata": {},
   "outputs": [
    {
     "data": {
      "text/plain": [
       "5"
      ]
     },
     "execution_count": 5,
     "metadata": {},
     "output_type": "execute_result"
    }
   ],
   "source": [
    "def count_element(arr, ele):\n",
    "    first_ocr = first_occurence(arr, ele)\n",
    "    last_ocr = last_occurence(arr, ele)\n",
    "    \n",
    "    return last_ocr - first_ocr + 1\n",
    "\n",
    "count_element([1, 2, 3, 5, 5, 5, 5, 5, 6, 7, 8, 9, 10], 5)"
   ]
  },
  {
   "cell_type": "markdown",
   "metadata": {},
   "source": [
    "## [Number of times a sorted array is rotated](https://www.geeksforgeeks.org/find-rotation-count-rotated-sorted-array/)"
   ]
  },
  {
   "cell_type": "code",
   "execution_count": 6,
   "metadata": {},
   "outputs": [
    {
     "data": {
      "text/plain": [
       "2"
      ]
     },
     "execution_count": 6,
     "metadata": {},
     "output_type": "execute_result"
    }
   ],
   "source": [
    "def array_rotation_count(arr):\n",
    "    n = len(arr)\n",
    "    start = 0\n",
    "    end = n - 1\n",
    "    \n",
    "    while not start > end:\n",
    "        mid = start + (end - start) // 2\n",
    "        prev_idx = (mid + n - 1) % n\n",
    "        next_idx = (mid + 1) % n\n",
    "        \n",
    "        if arr[mid] <= arr[next_idx] and arr[mid] <= arr[prev_idx]:\n",
    "            return mid\n",
    "        elif arr[mid] >= arr[start]:\n",
    "            start = mid + 1\n",
    "        else:\n",
    "            end = mid - 1\n",
    "            \n",
    "    return 0 \n",
    "\n",
    "array_rotation_count([4, 5, 1, 2, 3])"
   ]
  },
  {
   "cell_type": "markdown",
   "metadata": {},
   "source": [
    "## Binary Search Recursion"
   ]
  },
  {
   "cell_type": "code",
   "execution_count": 7,
   "metadata": {},
   "outputs": [
    {
     "data": {
      "text/plain": [
       "4"
      ]
     },
     "execution_count": 7,
     "metadata": {},
     "output_type": "execute_result"
    }
   ],
   "source": [
    "def binary_search_rec(arr, ele, start, end):\n",
    "    if start > end:\n",
    "        return -1\n",
    "    mid = start + (end - start) // 2\n",
    "    if arr[mid] == ele:\n",
    "        return mid\n",
    "    elif ele > arr[mid]:\n",
    "        return binary_search_rec(arr, ele, mid + 1, end)\n",
    "    else:\n",
    "        return binary_search_rec(arr, ele, start, mid - 1)\n",
    "    \n",
    "binary_search_rec([1, 2, 3, 4, 5, 6], 5, 0, 5)"
   ]
  },
  {
   "cell_type": "markdown",
   "metadata": {},
   "source": [
    "## [Find an element in a Rotated Sorted Array](https://www.geeksforgeeks.org/search-an-element-in-a-sorted-and-pivoted-array/)"
   ]
  },
  {
   "cell_type": "code",
   "execution_count": 8,
   "metadata": {},
   "outputs": [
    {
     "data": {
      "text/plain": [
       "2"
      ]
     },
     "execution_count": 8,
     "metadata": {},
     "output_type": "execute_result"
    }
   ],
   "source": [
    "def find_ele_sorted_array_rot(arr, ele):\n",
    "    n = len(arr)\n",
    "    start = 0\n",
    "    end = n - 1\n",
    "    \n",
    "    # Search for the minimum element\n",
    "    while not start > end:\n",
    "        mid = start + (end - start) // 2\n",
    "\n",
    "        if ele == arr[mid]:\n",
    "            return mid\n",
    "        elif arr[start] <= arr[mid]:\n",
    "            if ele < arr[mid] and ele >= arr[start]:\n",
    "                end = mid - 1\n",
    "            else:\n",
    "                start = mid + 1\n",
    "        else:\n",
    "            if ele > arr[mid] and ele <= arr[end]:\n",
    "                start = mid + 1\n",
    "            else:\n",
    "                end = mid - 1\n",
    "\n",
    "    return -1\n",
    "\n",
    "find_ele_sorted_array_rot([4, 5, 1, 2, 3, 10], 1)"
   ]
  },
  {
   "cell_type": "markdown",
   "metadata": {},
   "source": [
    "## [Searching in a nearly sorted array](https://www.geeksforgeeks.org/search-almost-sorted-array/)\n",
    "element can be found at either position i, i - 1 or i + 1"
   ]
  },
  {
   "cell_type": "code",
   "execution_count": 9,
   "metadata": {},
   "outputs": [
    {
     "data": {
      "text/plain": [
       "3"
      ]
     },
     "execution_count": 9,
     "metadata": {},
     "output_type": "execute_result"
    }
   ],
   "source": [
    "def search_nearly_sort(arr, ele):\n",
    "    n = len(arr)\n",
    "    start = 0\n",
    "    end = n - 1\n",
    "    \n",
    "    while not start > end:\n",
    "        mid = start + (end - start) // 2\n",
    "        if arr[mid] == ele:\n",
    "            return mid\n",
    "        elif mid + 1 < end + 1 and arr[mid + 1] == ele:\n",
    "            return mid + 1\n",
    "        elif mid - 1 > -1 and arr[mid - 1] == ele:\n",
    "            return mid - 1\n",
    "        elif ele > arr[mid]:\n",
    "            start = mid + 2\n",
    "        else:\n",
    "            end = mid - 2\n",
    "            \n",
    "    return -1\n",
    "\n",
    "search_nearly_sort([1, 2, 3, 5, 4, 6, 7, 8], 5)"
   ]
  },
  {
   "cell_type": "markdown",
   "metadata": {},
   "source": [
    "## [Find floor of an element in a sorted array](https://www.geeksforgeeks.org/floor-in-a-sorted-array/)"
   ]
  },
  {
   "cell_type": "code",
   "execution_count": 10,
   "metadata": {},
   "outputs": [
    {
     "data": {
      "text/plain": [
       "4"
      ]
     },
     "execution_count": 10,
     "metadata": {},
     "output_type": "execute_result"
    }
   ],
   "source": [
    "def floor_ele(arr, ele):\n",
    "    start = 0\n",
    "    end = len(arr) - 1\n",
    "    result = -1\n",
    "    \n",
    "    while not start > end:\n",
    "        mid = start + (end - start) // 2\n",
    "        if arr[mid] == ele:\n",
    "            return ele\n",
    "        elif ele > arr[mid]:\n",
    "            result = arr[mid]\n",
    "            start = mid + 1\n",
    "        else:\n",
    "            end = mid - 1\n",
    "            \n",
    "    return result\n",
    "\n",
    "floor_ele([1, 2, 3, 4, 6, 7, 8], 5)"
   ]
  },
  {
   "cell_type": "markdown",
   "metadata": {},
   "source": [
    "## [Find ceil of an element in a sorted array](https://www.geeksforgeeks.org/ceiling-in-a-sorted-array/)"
   ]
  },
  {
   "cell_type": "code",
   "execution_count": 11,
   "metadata": {},
   "outputs": [
    {
     "data": {
      "text/plain": [
       "6"
      ]
     },
     "execution_count": 11,
     "metadata": {},
     "output_type": "execute_result"
    }
   ],
   "source": [
    "def ceil_ele(arr, ele):\n",
    "    start = 0\n",
    "    end = len(arr) - 1\n",
    "    result = -1\n",
    "    \n",
    "    while not start > end:\n",
    "        mid = start + (end - start) // 2\n",
    "        if arr[mid] == ele:\n",
    "            return ele\n",
    "        elif ele < arr[mid]:\n",
    "            result = arr[mid]\n",
    "            end = mid - 1\n",
    "        else:\n",
    "            start = mid + 1\n",
    "            \n",
    "    return result\n",
    "\n",
    "ceil_ele([1, 2, 3, 4, 6, 7, 8], 5)"
   ]
  },
  {
   "cell_type": "markdown",
   "metadata": {},
   "source": [
    "## [Next alphabetical Element](https://www.geeksforgeeks.org/smallest-alphabet-greater-than-a-given-character/)"
   ]
  },
  {
   "cell_type": "code",
   "execution_count": 12,
   "metadata": {},
   "outputs": [
    {
     "data": {
      "text/plain": [
       "'c'"
      ]
     },
     "execution_count": 12,
     "metadata": {},
     "output_type": "execute_result"
    }
   ],
   "source": [
    "def next_alpha_ele(arr, key):\n",
    "    start = 0\n",
    "    end = len(arr) - 1\n",
    "    result = -1\n",
    "    \n",
    "    while not start > end:\n",
    "        mid = start + (end - start) // 2\n",
    "        if mid + 1 < end + 1 and arr[mid] == key:\n",
    "            return arr[mid + 1]\n",
    "        elif ord(key) < ord(arr[mid]):\n",
    "            result = arr[mid]\n",
    "            end = mid - 1\n",
    "        else:\n",
    "            start = mid + 1\n",
    "            \n",
    "    return result\n",
    "\n",
    "next_alpha_ele('cdefghijkl', 'a')"
   ]
  },
  {
   "cell_type": "markdown",
   "metadata": {},
   "source": [
    "## [Find position of an element in an infinite sorted array](https://www.geeksforgeeks.org/find-position-element-sorted-array-infinite-numbers/)"
   ]
  },
  {
   "cell_type": "code",
   "execution_count": 13,
   "metadata": {},
   "outputs": [
    {
     "data": {
      "text/plain": [
       "4"
      ]
     },
     "execution_count": 13,
     "metadata": {},
     "output_type": "execute_result"
    }
   ],
   "source": [
    "def find_ele_inf_sort_arr(arr, ele):\n",
    "    start = 0\n",
    "    end = 1\n",
    "    \n",
    "    while ele > arr[end]:\n",
    "        start = end\n",
    "        end = 2 * end\n",
    "    \n",
    "    return binary_search_rec(arr, ele, start, end)\n",
    "\n",
    "find_ele_inf_sort_arr([1, 2, 3, 4, 5, 6, 7, 8, 9, 10, 11, 12, 13, 14, 15, 16, 17, 18, 19, 20], 5)"
   ]
  },
  {
   "cell_type": "markdown",
   "metadata": {},
   "source": [
    "## [Index of first one in a infinite binary sorted array (includ 0 and 1 only)](https://www.geeksforgeeks.org/find-index-first-1-infinite-sorted-array-0s-1s/)"
   ]
  },
  {
   "cell_type": "code",
   "execution_count": 14,
   "metadata": {},
   "outputs": [
    {
     "data": {
      "text/plain": [
       "8"
      ]
     },
     "execution_count": 14,
     "metadata": {},
     "output_type": "execute_result"
    }
   ],
   "source": [
    "def index_of_first_one(arr):\n",
    "    start = 0\n",
    "    end = 1\n",
    "    \n",
    "    while 1 > arr[end]:\n",
    "        start = end\n",
    "        end = 2 * start\n",
    "        \n",
    "    first_ocr = -1\n",
    "    \n",
    "    while not start > end:\n",
    "        mid = start + (end - start) // 2\n",
    "        if arr[mid] == 1:\n",
    "            first_ocr = mid\n",
    "            end = mid - 1\n",
    "        else:\n",
    "            start = mid + 1\n",
    "        \n",
    "    return first_ocr\n",
    "\n",
    "index_of_first_one([0, 0, 0, 0, 0, 0, 0, 0, 1, 1, 1, 1, 1, 1])"
   ]
  },
  {
   "cell_type": "markdown",
   "metadata": {},
   "source": [
    "## Minimum difference element in a sorted array"
   ]
  },
  {
   "cell_type": "code",
   "execution_count": 15,
   "metadata": {},
   "outputs": [
    {
     "data": {
      "text/plain": [
       "4"
      ]
     },
     "execution_count": 15,
     "metadata": {},
     "output_type": "execute_result"
    }
   ],
   "source": [
    "def min_diff_ele(arr, ele):\n",
    "    start = 0\n",
    "    end = len(arr) - 1\n",
    "    \n",
    "    floor = -1\n",
    "    while not start > end:\n",
    "        mid = start + (end - start) // 2\n",
    "        if arr[mid] == ele:\n",
    "            floor = ele\n",
    "            break\n",
    "        elif ele > arr[mid]:\n",
    "            floor = arr[mid]\n",
    "            start = mid + 1\n",
    "        else:\n",
    "            end = mid - 1\n",
    "            \n",
    "    ceil = -1\n",
    "    start = 0\n",
    "    end = len(arr) - 1\n",
    "    while not start > end:\n",
    "        mid = start + (end - start) // 2\n",
    "        if arr[mid] == ele:\n",
    "            ceil = ele\n",
    "            break\n",
    "        elif ele < arr[mid]:\n",
    "            ceil = arr[mid]\n",
    "            end = mid - 1\n",
    "        else:\n",
    "            start = mid + 1\n",
    "            \n",
    "    if ele - floor < ceil - ele:\n",
    "        return floor\n",
    "    return ceil\n",
    "\n",
    "# Using ceil_ele and floor_ele functions\n",
    "def min_diff_ele(arr, ele):\n",
    "    ceil = ceil_ele(arr, ele)\n",
    "    floor = floor_ele(arr, ele)\n",
    "    \n",
    "    if ele - floor < ceil - ele:\n",
    "        return floor\n",
    "    return ceil\n",
    "\n",
    "min_diff_ele([1, 2, 3, 4, 8, 9], 5)"
   ]
  },
  {
   "cell_type": "markdown",
   "metadata": {},
   "source": [
    "## [Peak element : Element greater than its both neighbors](https://www.geeksforgeeks.org/find-a-peak-in-a-given-array/)\n",
    "\n",
    "Array is unsorted"
   ]
  },
  {
   "cell_type": "code",
   "execution_count": 16,
   "metadata": {},
   "outputs": [
    {
     "data": {
      "text/plain": [
       "9"
      ]
     },
     "execution_count": 16,
     "metadata": {},
     "output_type": "execute_result"
    }
   ],
   "source": [
    "def peak_ele(arr):\n",
    "    n = len(arr)\n",
    "    \n",
    "    if n == 1:\n",
    "        return 0\n",
    "    \n",
    "    start = 0\n",
    "    end = n - 1\n",
    "    \n",
    "    while not start > end:\n",
    "        mid = start + (end - start) // 2\n",
    "        if mid > 0 and mid < n-1:\n",
    "            if arr[mid - 1] <= arr[mid] >= arr[mid + 1]:\n",
    "                return mid\n",
    "            elif arr[mid - 1] > arr[mid]:\n",
    "                end = mid - 1\n",
    "            else:\n",
    "                start = mid + 1\n",
    "        else:\n",
    "            if mid == 0:\n",
    "                if arr[mid + 1] <= arr[mid]:\n",
    "                    return mid\n",
    "                return 1\n",
    "            elif mid == n-1:\n",
    "                if arr[mid - 1] <= arr[mid]:\n",
    "                    return mid\n",
    "                return mid - 1\n",
    "\n",
    "peak_ele([6, 1, 8, 2, 0, 2, 4, 3, 5, 10, 9])"
   ]
  },
  {
   "cell_type": "markdown",
   "metadata": {},
   "source": [
    "## [Median of Two Sorted Array](https://www.geeksforgeeks.org/median-of-two-sorted-arrays-of-different-sizes/)"
   ]
  },
  {
   "cell_type": "code",
   "execution_count": 17,
   "metadata": {},
   "outputs": [
    {
     "data": {
      "text/plain": [
       "32.5"
      ]
     },
     "execution_count": 17,
     "metadata": {},
     "output_type": "execute_result"
    }
   ],
   "source": [
    "def medianOfTwoSortedArray(arr1, arr2):\n",
    "    n1 = len(arr1)\n",
    "    n2 = len(arr2)\n",
    "    \n",
    "    if n1 > n2:\n",
    "        arr1, arr2 = arr2, arr1\n",
    "        n1, n2 = n2, n1\n",
    "        \n",
    "    begin1 = 0\n",
    "    end1 = n1\n",
    "    \n",
    "    while begin1 <= end1:\n",
    "        i1 = begin1 + (end1 - begin1) // 2\n",
    "        i2 = (n1 + n2 + 1) // 2 - i1\n",
    "        \n",
    "        min1 = float('inf') if i1 == n1 else arr1[i1]\n",
    "        max1 = -float('inf') if i1 == 0 else arr1[i1-1]\n",
    "        \n",
    "        min2 = float('inf') if i2 == n2 else arr2[i2]\n",
    "        max2 = -float('inf') if i2 == 0 else arr2[i2-1]\n",
    "        \n",
    "        if max1 <= min2 and max2 <= min1:\n",
    "            if (n1+n2)%2 == 0:\n",
    "                return (max(max1, max2) + min(min1, min2)) / 2\n",
    "            else:\n",
    "                return max(max1, max2)\n",
    "        elif max1 > min2:\n",
    "            end1 = i1 - 1\n",
    "        else:\n",
    "            begin1 = i1 + 1\n",
    "    \n",
    "    return -1\n",
    "\n",
    "medianOfTwoSortedArray([10, 20, 30, 40, 50], [5, 15, 25, 30, 35, 55, 65, 75, 85])"
   ]
  },
  {
   "cell_type": "markdown",
   "metadata": {},
   "source": [
    "## [Find maximum element in a bitonic array](https://www.geeksforgeeks.org/find-the-maximum-element-in-an-array-which-is-first-increasing-and-then-decreasing/)"
   ]
  },
  {
   "cell_type": "code",
   "execution_count": 18,
   "metadata": {},
   "outputs": [
    {
     "data": {
      "text/plain": [
       "7"
      ]
     },
     "execution_count": 18,
     "metadata": {},
     "output_type": "execute_result"
    }
   ],
   "source": [
    "def max_ele_bitonic_arr(arr):\n",
    "    n = len(arr)\n",
    "    start = 0\n",
    "    end = n - 1\n",
    "    \n",
    "    while not start > end:\n",
    "        mid = start + (end - start) // 2\n",
    "        if mid != 0 and mid != n-1:\n",
    "            if arr[mid - 1] < arr[mid] > arr[mid + 1]:\n",
    "                return arr[mid]\n",
    "            elif arr[mid] < arr[mid + 1]:\n",
    "                start = mid + 1\n",
    "            else:\n",
    "                end = mid - 1\n",
    "        else:\n",
    "            if mid == 0:\n",
    "                if arr[0] > arr[1]:\n",
    "                    return arr[0]\n",
    "                return arr[1]\n",
    "            else:\n",
    "                if arr[n-1] > arr[n - 2]:\n",
    "                    return arr[n - 1]\n",
    "                return arr[n - 2]\n",
    "            \n",
    "    return -1\n",
    "\n",
    "max_ele_bitonic_arr([1, 2, 3, 4, 5, 6, 7, 6, 5, 4, 3, 2, 1])"
   ]
  },
  {
   "cell_type": "markdown",
   "metadata": {},
   "source": [
    "## [Search in bitonic array](https://www.geeksforgeeks.org/find-element-bitonic-array/)"
   ]
  },
  {
   "cell_type": "code",
   "execution_count": 19,
   "metadata": {},
   "outputs": [
    {
     "data": {
      "text/plain": [
       "10"
      ]
     },
     "execution_count": 19,
     "metadata": {},
     "output_type": "execute_result"
    }
   ],
   "source": [
    "def search_bitonic(arr, ele):\n",
    "    n = len(arr)\n",
    "    start = 0\n",
    "    end = n - 1\n",
    "\n",
    "    peak_ele = -1\n",
    "    while not start > end:\n",
    "        mid = start + (end - start) // 2\n",
    "        if mid != 0 and mid != n-1:\n",
    "            if arr[mid - 1] < arr[mid] > arr[mid + 1]:\n",
    "                peak_ele = mid\n",
    "                break\n",
    "            elif arr[mid] < arr[mid + 1]:\n",
    "                start = mid + 1\n",
    "            else:\n",
    "                end = mid - 1\n",
    "        else:\n",
    "            if mid == 0:\n",
    "                if arr[0] > arr[1]:\n",
    "                    peak_ele = 0\n",
    "                else:\n",
    "                    peak_ele = 1\n",
    "            else:\n",
    "                if arr[n-1] > arr[n-2]:\n",
    "                    peak_ele = n - 1\n",
    "                else:\n",
    "                    peak_ele = n - 2\n",
    "\n",
    "    if arr[peak_ele] == ele:\n",
    "        return peak_ele\n",
    "    elif peak_ele == 0 and arr[0] == ele:\n",
    "        return 0\n",
    "    elif peak_ele == n-1 and arr[n-1] == ele:\n",
    "        return n-1\n",
    "    else:\n",
    "        left_search = binary_search_order_unk(arr[:peak_ele ], ele)\n",
    "        right_search = binary_search_order_unk(arr[peak_ele + 1:], ele)\n",
    "        if left_search != -1:\n",
    "            return left_search\n",
    "        elif right_search != -1:\n",
    "            return right_search + peak_ele + 1\n",
    "        else:\n",
    "            return -1\n",
    "    \n",
    "search_bitonic([1, 2, 3, 4, 5, 20, 19, 18, 13, 12, 11], 11)"
   ]
  },
  {
   "cell_type": "markdown",
   "metadata": {},
   "source": [
    "## [Search in row-wise and col-wise sorted array -- O(N + M) (worst case)](https://www.geeksforgeeks.org/search-in-row-wise-and-column-wise-sorted-matrix/)"
   ]
  },
  {
   "cell_type": "code",
   "execution_count": 20,
   "metadata": {},
   "outputs": [
    {
     "data": {
      "text/plain": [
       "(2, 1)"
      ]
     },
     "execution_count": 20,
     "metadata": {},
     "output_type": "execute_result"
    }
   ],
   "source": [
    "def matrix_search(arr, ele):\n",
    "    N = len(arr)\n",
    "    M = len(arr[0])\n",
    "    row_idx = 0\n",
    "    col_idx = M - 1\n",
    "    \n",
    "    while 0 <= row_idx < N and 0 <= col_idx < M:\n",
    "        if arr[row_idx][col_idx] == ele:\n",
    "            return (row_idx, col_idx)\n",
    "        elif arr[row_idx][col_idx] > ele:\n",
    "            col_idx -= 1\n",
    "        else:\n",
    "            row_idx += 1\n",
    "    \n",
    "    return -1\n",
    "\n",
    "matrix = [[10, 20, 30, 40],\n",
    "          [15, 25, 35, 45],\n",
    "          [27, 29, 27, 45],\n",
    "          [32, 33, 39, 50]]\n",
    "key = 29\n",
    "matrix_search(matrix, key)"
   ]
  },
  {
   "cell_type": "markdown",
   "metadata": {},
   "source": [
    "## [Allocates minimum number of Pages](https://www.geeksforgeeks.org/allocate-minimum-number-pages/)"
   ]
  },
  {
   "cell_type": "code",
   "execution_count": 1,
   "metadata": {},
   "outputs": [
    {
     "data": {
      "text/plain": [
       "280"
      ]
     },
     "execution_count": 1,
     "metadata": {},
     "output_type": "execute_result"
    }
   ],
   "source": [
    "def allocat_min_num_pages(arr, k):\n",
    "    start = max(arr)\n",
    "    end = sum(arr)\n",
    "    n = len(arr)\n",
    "    result = -1\n",
    "    \n",
    "    if n < k:\n",
    "        return -1\n",
    "    \n",
    "    while not start > end:\n",
    "        mid = start + (end - start) // 2\n",
    "        if is_valid(arr, n, k, mid):\n",
    "            result = mid\n",
    "            end = mid - 1\n",
    "        else:\n",
    "            start = mid + 1\n",
    "    \n",
    "    return result\n",
    "        \n",
    "def is_valid(arr, n, k, mid):\n",
    "    student = 1\n",
    "    std_sum = 0\n",
    "    \n",
    "    for i in range(n):\n",
    "        std_sum += arr[i]\n",
    "        if std_sum > mid:\n",
    "            student += 1\n",
    "            std_sum = arr[i]\n",
    "    if student > k:\n",
    "        return False\n",
    "    return True\n",
    "\n",
    "allocat_min_num_pages([10, 20, 30, 40, 50, 60, 70, 80, 90, 100], 2)"
   ]
  }
 ],
 "metadata": {
  "kernelspec": {
   "display_name": "Python 3 (ipykernel)",
   "language": "python",
   "name": "python3"
  },
  "language_info": {
   "codemirror_mode": {
    "name": "ipython",
    "version": 3
   },
   "file_extension": ".py",
   "mimetype": "text/x-python",
   "name": "python",
   "nbconvert_exporter": "python",
   "pygments_lexer": "ipython3",
   "version": "3.11.7"
  }
 },
 "nbformat": 4,
 "nbformat_minor": 4
}
