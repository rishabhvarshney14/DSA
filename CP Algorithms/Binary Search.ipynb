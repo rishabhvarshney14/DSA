{
 "cells": [
  {
   "cell_type": "markdown",
   "id": "ccbd09ad-c5a1-41f0-a940-0fe371a23305",
   "metadata": {},
   "source": [
    "# Binary Search\n",
    "\n",
    "Binary search is a method that allows for quicker search of something by splitting the search interval into two. Its most common application is searching values in sorted arrays, however the splitting idea is crucial in many other typical tasks."
   ]
  },
  {
   "cell_type": "markdown",
   "id": "3bd67978-c0d7-424c-8376-3c2324d6e2f1",
   "metadata": {},
   "source": [
    "## Search in Sorted Arrays"
   ]
  },
  {
   "attachments": {},
   "cell_type": "markdown",
   "id": "dcac156f-2220-4091-9812-a8c5f76135b6",
   "metadata": {},
   "source": [
    "The most typical problem that leads to the binary search is as follows. You're given a sorted array A0 <= A1 <= A2 <= ... <= An-1, check if k is present within the sequence. The simplest solution would be to check every element one by one and compare it with k (a so-called linear search). This approach works in O(N) , but doesn't utilize the fact that the array is sorted.\n",
    "\n",
    "![Binary_Search_Depiction.svg](https://upload.wikimedia.org/wikipedia/commons/8/83/Binary_Search_Depiction.svg)\n",
    "\n",
    "Now assume that we know two indices L < R such that A_L <= k <= A_R. Because the array is sorted, we can deduce that k either occurs among A_L, A_{L+1}, ..., A_R or doesn't occur in the array at all. If we pick an arbitrary index M such that L < M < R and check whether k is less or greater than A_M, we have two possible cases:\n",
    "\n",
    "1. A_L <= k <= A_M. In this case, we reduce the problem from [L, R] to [L, M].\n",
    "2. A_M <= k <= A_R. In this case, we reduce the problem from [L, R] to [M, R].\n",
    "\n",
    "When it is impossible to pick M, that is, when R = L + 1, we directly compare k with A_L and A_R. Otherwise, we would want to pick M in such a manner that it reduces the active segment to a single element as quickly as possible in the worst case.\n",
    "\n",
    "Since in the worst case we will always reduce to the larger segment of [L, M] and [M, R], the reduction would be from R-L to max(M-L, R-M). To minimize this value, we should pick M approximately as: M ≈ (L+R)/2, then M-L ≈ (R-L)/2 ≈ R-M."
   ]
  },
  {
   "cell_type": "code",
   "execution_count": 2,
   "id": "4cc36b5f-4b60-4cd4-b4bf-527d77cb0af5",
   "metadata": {},
   "outputs": [
    {
     "data": {
      "text/plain": [
       "5"
      ]
     },
     "execution_count": 2,
     "metadata": {},
     "output_type": "execute_result"
    }
   ],
   "source": [
    "def binary_search(arr, val):\n",
    "    left = 0\n",
    "    right = len(arr) - 1\n",
    "\n",
    "    while left <= right:\n",
    "        mid = (right - left) // 2 + left\n",
    "\n",
    "        if arr[mid] == val:\n",
    "            return mid\n",
    "        elif arr[mid] > val:\n",
    "            right = mid - 1\n",
    "        else:\n",
    "            left = mid + 1\n",
    "\n",
    "    return -1\n",
    "\n",
    "binary_search([1, 2, 3, 4, 5, 6, 7, 8, 9], 6)"
   ]
  },
  {
   "cell_type": "markdown",
   "id": "7f02e0e4-f793-44bc-8d0c-297e9ee0162a",
   "metadata": {},
   "source": [
    "## Lower Bound and Upper Bound"
   ]
  },
  {
   "cell_type": "markdown",
   "id": "a79f4f81-01d9-4436-bc9b-a1ba00af52e7",
   "metadata": {},
   "source": [
    "It is often convenient to find the position of the first element that is not less than k (called the lower bound of  $k$  in the array) or the position of the first element that is greater than $k$ (called the upper bound of $k$ ) rather than the exact position of the element.\n",
    "\n",
    "### Lower Bound"
   ]
  },
  {
   "cell_type": "code",
   "execution_count": 24,
   "id": "4f9ca3d0-da30-449e-8f52-beffe0f70e56",
   "metadata": {},
   "outputs": [
    {
     "data": {
      "text/plain": [
       "2"
      ]
     },
     "execution_count": 24,
     "metadata": {},
     "output_type": "execute_result"
    }
   ],
   "source": [
    "def lower_bound(arr, val):\n",
    "    left = 0\n",
    "    right = len(arr) - 1\n",
    "    result = -1\n",
    "\n",
    "    while left <= right:\n",
    "        mid = (right - left) // 2 + left\n",
    "\n",
    "        if arr[mid] >= val:\n",
    "            result = mid\n",
    "            right = mid - 1\n",
    "        else:\n",
    "            left = mid + 1\n",
    "\n",
    "    return result\n",
    "\n",
    "lower_bound([10, 20, 30, 40, 50], 30)"
   ]
  },
  {
   "cell_type": "markdown",
   "id": "37beb878-9a84-47f0-b4a1-1be688b41df4",
   "metadata": {},
   "source": [
    "### Upper Bound"
   ]
  },
  {
   "cell_type": "code",
   "execution_count": 26,
   "id": "b99ec71e-5795-4ea0-8f9a-9f1b9c8f9a5f",
   "metadata": {},
   "outputs": [
    {
     "data": {
      "text/plain": [
       "3"
      ]
     },
     "execution_count": 26,
     "metadata": {},
     "output_type": "execute_result"
    }
   ],
   "source": [
    "def upper_bound(arr, val):\n",
    "    left = 0\n",
    "    right = len(arr)\n",
    "    result = -1\n",
    "\n",
    "    while left <= right:\n",
    "        mid = (right - left) // 2 + left\n",
    "\n",
    "        if arr[mid] > val:\n",
    "            right = mid - 1\n",
    "            result = mid\n",
    "        else:\n",
    "            left = mid + 1\n",
    "\n",
    "\n",
    "    return result\n",
    "\n",
    "upper_bound([10, 20, 30, 40, 50], 30)"
   ]
  },
  {
   "cell_type": "markdown",
   "id": "8b8b76f0-d48a-4c85-8f1c-981fff64c67e",
   "metadata": {},
   "source": [
    "## Search on Arbitrary Predicate"
   ]
  },
  {
   "cell_type": "markdown",
   "id": "a7fdaa9a-a9cf-4993-8e6f-a640ffac4b65",
   "metadata": {},
   "source": [
    "Let $f : \\{0,1,\\dots, n-1\\} \\to \\{0, 1\\}$  be a boolean function defined on $0,1,\\dots,n-1$  such that it is monotonously increasing, that is $$ f(0) \\leq f(1) \\leq \\dots \\leq f(n-1). $$\n",
    "\n",
    "The binary search, the way it is described above, finds the partition of the array by the predicate $f(M)$ , holding the boolean value of $k < A_M$  expression. It is possible to use arbitrary monotonous predicate instead of $k < A_M$ .\n",
    "\n",
    "It is particularly useful when the computation of  \n",
    "$f(k)$  is requires too much time to actually compute it for every possible value. In other words, binary search finds the unique index  \n",
    "$L$  such that  \n",
    "$f(L) = 0$  and  \n",
    "$f(R)=f(L+1)=1$  if such a transition point exists, or gives us  \n",
    "$L = n-1$  if  \n",
    "$f(0) = \\dots = f(n-1) = 0$  or  \n",
    "$L = -1$  if  \n",
    "$f(0) = \\dots = f(n-1) = 1$ ."
   ]
  },
  {
   "cell_type": "code",
   "execution_count": 31,
   "id": "a5b8fc2e-9b66-48ad-8ab1-9c5a33fc93e4",
   "metadata": {},
   "outputs": [],
   "source": [
    "def f(n):\n",
    "    # Dummy function that follows f(0) <= f(1) <= ... <= f(n)\n",
    "    pass\n",
    "\n",
    "def binary_search_on_arbitrary_predicate():\n",
    "    left = -1\n",
    "    right = n\n",
    "\n",
    "    # high > low + 1: This ensures that the loop continues only when there is at least one element between low and high. \n",
    "    # When high is low + 1 or low is high - 1, it means low and high are adjacent, and the search space has effectively \n",
    "    # been reduced to two elements. This allows the loop to terminate safely.\n",
    "    while right > left + 1:\n",
    "        mid = (right - left) // 2 + left\n",
    "\n",
    "        if f(mid):\n",
    "            right = mid\n",
    "        else:\n",
    "            left = mid"
   ]
  },
  {
   "cell_type": "code",
   "execution_count": null,
   "id": "be1599b4-eb21-4c2c-b4bf-79d40d09bf51",
   "metadata": {},
   "outputs": [],
   "source": []
  }
 ],
 "metadata": {
  "kernelspec": {
   "display_name": "Python 3 (ipykernel)",
   "language": "python",
   "name": "python3"
  },
  "language_info": {
   "codemirror_mode": {
    "name": "ipython",
    "version": 3
   },
   "file_extension": ".py",
   "mimetype": "text/x-python",
   "name": "python",
   "nbconvert_exporter": "python",
   "pygments_lexer": "ipython3",
   "version": "3.11.7"
  }
 },
 "nbformat": 4,
 "nbformat_minor": 5
}
