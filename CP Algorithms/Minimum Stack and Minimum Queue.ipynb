{
 "cells": [
  {
   "cell_type": "markdown",
   "id": "c676f662-9780-4e26-96a3-f47199f41521",
   "metadata": {},
   "source": [
    "# Minimum Stak / Minimum Queue\n",
    "\n",
    "## Stack Modification\n",
    "\n",
    "We want to modify the stack data structure in such a way, that it is possible to find the smallest element in the stack in O(1) time, while maintaining the sam easymptotic behavior for adding and removing elements from the stack.\n",
    "\n",
    "To do this, we will not only store the elements in the stack, but we will store them in pairs: the element itself and the minimum in the stack starting from this element and below.\n",
    "\n",
    "```rust\n",
    "stack<pair<int, int>> st;\n",
    "```\n",
    "\n",
    "It is clear that finding the minimum in the whole stack consists only of looking at the value stack.top().second.\n",
    "\n",
    "It is also obvious that adding or removing a new element to the stack can be done in constant time.\n",
    "\n",
    "### Implementation"
   ]
  },
  {
   "cell_type": "code",
   "execution_count": 6,
   "id": "aa26f04f-8a6e-49f2-9771-126b0e14d5e5",
   "metadata": {},
   "outputs": [],
   "source": [
    "class Stack:\n",
    "    def __init__(self):\n",
    "        self.stack = []\n",
    "\n",
    "    def is_empty(self):\n",
    "        return len(self.stack) == 0\n",
    "\n",
    "    def push(self, ele):\n",
    "        if not self.stack:\n",
    "            self.stack.append((ele, ele))\n",
    "        else:\n",
    "            last_stack_element = self.stack[-1][-1]\n",
    "            self.stack.append((ele, min(ele, last_stack_element)))\n",
    "\n",
    "    def pop(self):\n",
    "        return self.stack.pop()[0]\n",
    "\n",
    "    def get_minimum(self):\n",
    "        return self.stack[-1][-1]"
   ]
  },
  {
   "cell_type": "markdown",
   "id": "c4ef139b-2c27-49de-9d3e-9b94aec34cda",
   "metadata": {},
   "source": [
    "## Queue Modification\n",
    "\n",
    "Now we want to achieve the same operations with a queue, i.e. we want to add elements at the end and remove them from the front.\n",
    "\n",
    "### Method 1\n",
    "Here we consider a simple method for modifying a queue. It has a big disadvantage though, because the modified queue will actually not store all elements.\n",
    "\n",
    "The key idea is to maintain a queue where the smallest element is always at the head. To achieve this, we ensure the queue is in non-decreasing order. Before adding a new element, we remove all trailing elements larger than the new element. This preserves the order and ensures the new element, if the minimum, remains at the head. Elements removed can never be the minimum. When removing an element, we check if the head equals the value to be removed; if so, we safely remove it.\n",
    "\n",
    "This approach guarantees that the smallest element is always at the head, and we efficiently maintain the minimum value in the queue.\n",
    "\n",
    "### Implementation"
   ]
  },
  {
   "cell_type": "code",
   "execution_count": 4,
   "id": "73bd2a46-6d3c-460d-8ac7-9089fe451b39",
   "metadata": {},
   "outputs": [],
   "source": [
    "class Queue:\n",
    "    def __init__(self):\n",
    "        self.queue = []\n",
    "\n",
    "    def minimum(self):\n",
    "        return self.queue[0]\n",
    "\n",
    "    def add(self, ele):\n",
    "        while self.queue and self.queue[-1] > ele:\n",
    "            self.queue.pop()\n",
    "\n",
    "        self.queue.append(ele)\n",
    "\n",
    "    def remove(self, ele):\n",
    "        if self.queue and q[0] == ele:\n",
    "            self.queue.pop(0)"
   ]
  },
  {
   "cell_type": "markdown",
   "id": "b563fe3c-0edd-4e31-ba06-0e10c401c82e",
   "metadata": {},
   "source": [
    "It is clear that on average all these operation only take O(1)  time (because every element can only be pushed and popped once).\n",
    "\n",
    "### Method 2\n",
    "\n",
    "This is a modification of method 1. We want to be able to remove elements without knowing which element we have to remove. We can accomplish that by storing the index for each element in the queue. And we also remember how many elements we already have added and removed.\n",
    "\n",
    "### Implementation"
   ]
  },
  {
   "cell_type": "code",
   "execution_count": 5,
   "id": "c01d09f4-f22f-4fb6-8060-64ee97186686",
   "metadata": {},
   "outputs": [],
   "source": [
    "class Queue:\n",
    "    def __init__(self):\n",
    "        self.queue = []\n",
    "        self.cnt_added = 0\n",
    "        self.cnt_removed = 0\n",
    "\n",
    "    def minimum(self):\n",
    "        return self.queue[0][0]\n",
    "\n",
    "    def add(self, ele):\n",
    "        while self.queue and self.queue[-1][0] > ele:\n",
    "            self.queue.pop()\n",
    "\n",
    "        self.queue.append((ele, self.cnt_added))\n",
    "        self.cnt_added += 1 \n",
    "\n",
    "    def remove(self):\n",
    "        if self.queue and self.queue[0][1] == self.cnt_removed:\n",
    "            self.queue.pop(0)\n",
    "\n",
    "        self.cnt_removed -= 1"
   ]
  },
  {
   "cell_type": "markdown",
   "id": "71259c6c-25ca-430f-b53d-e3f230d717ad",
   "metadata": {},
   "source": [
    "### Method 3\n",
    "\n",
    "In this method we will store all elements and we can also remove an element from the front without knowing its value.\n",
    "\n",
    "The idea is to reduce the problem to the problem of stacks, which was already solved by us. So we only need to learn how to simulate a queue using two stacks.\n",
    "\n",
    "We make two stacks, s1 and s2. Of course these stack will be of the modified form, so that we can find the minimum in  \n",
    "O(1) . We will add new elements to the stack s1, and remove elements from the stack s2. If at any time the stack s2 is empty, we move all elements from s1 to s2 (which essentially reverses the order of those elements). Finally finding the minimum in a queue involves just finding the minimum of both stacks.\n",
    "\n",
    "Thus we perform all operations in  \n",
    "O(1)  on average (each element will be once added to stack s1, once transferred to s2, and once popped from s2)\n",
    "\n",
    "### Implementation"
   ]
  },
  {
   "cell_type": "code",
   "execution_count": 8,
   "id": "134fdb94-0452-45b9-8616-e5bc12c89106",
   "metadata": {},
   "outputs": [],
   "source": [
    "class Queue:\n",
    "    def __init__(self):\n",
    "        self.stack1 = Stack()\n",
    "        self.stack2 = Stack()\n",
    "\n",
    "    def minimum(self):\n",
    "        if self.stack1.is_empty():\n",
    "            return self.stack2.get_minimum()\n",
    "\n",
    "        if self.stack2.is_empty():\n",
    "            return self.stack1.get_minimum()\n",
    "\n",
    "        return min(self.stack1.get_minimum(), self.stack2.get_minimum())\n",
    "\n",
    "    def add(self, ele):\n",
    "        self.stack1.push(ele)\n",
    "\n",
    "    def remove(self):\n",
    "        while self.stack2.is_empty():\n",
    "            ele = self.stack1.pop()\n",
    "            self.stack2.push(ele)\n",
    "\n",
    "        return self.stack2.pop()"
   ]
  },
  {
   "cell_type": "markdown",
   "id": "6a78c7f5-f651-4dbb-b501-72cf98e19793",
   "metadata": {},
   "source": [
    "## Practice Problems\n",
    "\n",
    "### Finding the minimum for all subarrays of fixed length"
   ]
  },
  {
   "cell_type": "code",
   "execution_count": 15,
   "id": "2e5bb867-1545-4dd3-927e-afe8e86cfb61",
   "metadata": {},
   "outputs": [
    {
     "data": {
      "text/plain": [
       "[0, 1, 1, 2, 2, 2]"
      ]
     },
     "execution_count": 15,
     "metadata": {},
     "output_type": "execute_result"
    }
   ],
   "source": [
    "class MinimumQueue:\n",
    "    def __init__(self):\n",
    "        self.queue = []\n",
    "\n",
    "    def get_minimum(self):\n",
    "        return self.queue[0]\n",
    "\n",
    "    def add(self, ele):\n",
    "        while self.queue and self.queue[-1] > ele:\n",
    "            self.queue.pop()\n",
    "\n",
    "        self.queue.append(ele)\n",
    "\n",
    "    def remove(self, ele):\n",
    "        if self.queue and self.queue[0] == ele:\n",
    "            self.queue.pop(0)\n",
    "\n",
    "class Solution:\n",
    "\n",
    "    def find_minimums(self, arr, m):\n",
    "        result = []\n",
    "        min_queue = MinimumQueue()\n",
    "\n",
    "        buffer_len = 0\n",
    "\n",
    "        for i, ele in enumerate(arr):\n",
    "            min_queue.add(ele)\n",
    "            buffer_len += 1\n",
    "\n",
    "            if buffer_len >= m:\n",
    "                result.append(min_queue.get_minimum())\n",
    "                min_queue.remove(arr[i-m+1])\n",
    "\n",
    "        return result\n",
    "\n",
    "Solution().find_minimums([0, 2, 1, 5, 7, 2, 3, 2], 3)"
   ]
  },
  {
   "cell_type": "markdown",
   "id": "6fe7cd11-125c-4992-944e-97bf6d0bea28",
   "metadata": {},
   "source": [
    "### [Queries with Fixed Length](https://www.hackerrank.com/challenges/queries-with-fixed-length/problem)"
   ]
  },
  {
   "cell_type": "code",
   "execution_count": 16,
   "id": "ebecbd22-53a5-4d62-a893-f685b9ba6fa2",
   "metadata": {},
   "outputs": [],
   "source": [
    "def solve(arr, queries):\n",
    "    result = []\n",
    "    \n",
    "    for query in queries:\n",
    "        queue = []\n",
    "        local_result = float('inf')\n",
    "        for i in range(len(arr)):\n",
    "            if i + 1 > query and queue and queue[0] == arr[i-query]:\n",
    "                queue.pop(0)\n",
    "            \n",
    "            while queue and queue[-1] <= arr[i]:\n",
    "                queue.pop()\n",
    "            \n",
    "            queue.append(arr[i])\n",
    "            \n",
    "            if i + 1 >= query:\n",
    "                local_result = min(local_result, queue[0])\n",
    "        \n",
    "        result.append(local_result)\n",
    "    \n",
    "    return result"
   ]
  },
  {
   "cell_type": "code",
   "execution_count": null,
   "id": "02d003bf-9306-49e8-8d71-21dc4c35bbf2",
   "metadata": {},
   "outputs": [],
   "source": []
  }
 ],
 "metadata": {
  "kernelspec": {
   "display_name": "Python 3 (ipykernel)",
   "language": "python",
   "name": "python3"
  },
  "language_info": {
   "codemirror_mode": {
    "name": "ipython",
    "version": 3
   },
   "file_extension": ".py",
   "mimetype": "text/x-python",
   "name": "python",
   "nbconvert_exporter": "python",
   "pygments_lexer": "ipython3",
   "version": "3.11.7"
  }
 },
 "nbformat": 4,
 "nbformat_minor": 5
}
